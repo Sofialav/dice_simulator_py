{
 "cells": [
  {
   "cell_type": "markdown",
   "metadata": {},
   "source": [
    "## This is a dice simulator"
   ]
  },
  {
   "cell_type": "code",
   "execution_count": 25,
   "metadata": {},
   "outputs": [
    {
     "name": "stdout",
     "output_type": "stream",
     "text": [
      "Hi! This is a dice simulator.\n"
     ]
    }
   ],
   "source": [
    "import random\n",
    "print(\"Hi! This is a dice simulator.\")"
   ]
  },
  {
   "cell_type": "code",
   "execution_count": 26,
   "metadata": {},
   "outputs": [],
   "source": [
    "dice = random.randint(1,6)\n",
    "y = \"c\""
   ]
  },
  {
   "cell_type": "code",
   "execution_count": 27,
   "metadata": {},
   "outputs": [
    {
     "name": "stdout",
     "output_type": "stream",
     "text": [
      "---------\n",
      "|       |\n",
      "|   O   |\n",
      "|       |\n",
      "---------\n",
      "press 'c' to roll again, or anything else to quit: f\n"
     ]
    }
   ],
   "source": [
    "while y == \"c\":\n",
    "    if dice == 1:\n",
    "        print(\"---------\")\n",
    "        print(\"|       |\")\n",
    "        print(\"|   O   |\")\n",
    "        print(\"|       |\")\n",
    "        print(\"---------\")\n",
    "    if dice == 2:\n",
    "        print(\"---------\")\n",
    "        print(\"|       |\")\n",
    "        print(\"| O   O |\")\n",
    "        print(\"|       |\")\n",
    "        print(\"---------\")\n",
    "    if dice == 3:\n",
    "        print(\"---------\")\n",
    "        print(\"|   O   |\")\n",
    "        print(\"|   O   |\")\n",
    "        print(\"|   O   |\")\n",
    "        print(\"---------\")\n",
    "    if dice == 4:\n",
    "        print(\"---------\")\n",
    "        print(\"| O   O |\")\n",
    "        print(\"|       |\")\n",
    "        print(\"| O   O |\")\n",
    "        print(\"---------\")\n",
    "    if dice == 5:\n",
    "        print(\"---------\")\n",
    "        print(\"| O   O |\")\n",
    "        print(\"|   O   |\")\n",
    "        print(\"| O   O |\")\n",
    "        print(\"---------\")\n",
    "    if dice == 6:\n",
    "        print(\"---------\")\n",
    "        print(\"| O   O |\")\n",
    "        print(\"| O   O |\")\n",
    "        print(\"| O   O |\")\n",
    "        print(\"---------\")\n",
    "    y = input(\"press 'c' to roll again, or anything else to quit: \")\n",
    "    dice = random.randint(1,6)"
   ]
  }
 ],
 "metadata": {
  "kernelspec": {
   "display_name": "Python 3",
   "language": "python",
   "name": "python3"
  },
  "language_info": {
   "codemirror_mode": {
    "name": "ipython",
    "version": 3
   },
   "file_extension": ".py",
   "mimetype": "text/x-python",
   "name": "python",
   "nbconvert_exporter": "python",
   "pygments_lexer": "ipython3",
   "version": "3.7.3"
  }
 },
 "nbformat": 4,
 "nbformat_minor": 2
}
